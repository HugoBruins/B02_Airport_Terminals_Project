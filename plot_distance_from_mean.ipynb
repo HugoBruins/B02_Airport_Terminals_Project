{
 "cells": [
  {
   "cell_type": "code",
   "execution_count": 13,
   "id": "52eb5046",
   "metadata": {},
   "outputs": [],
   "source": [
    "import handle_data\n",
    "import matplotlib.pyplot as plt\n",
    "import pandas as pd\n",
    "import statsmodels.api as sm\n",
    "import numpy as np"
   ]
  },
  {
   "cell_type": "code",
   "execution_count": 4,
   "id": "29c3fe03",
   "metadata": {},
   "outputs": [],
   "source": [
    "variable_to_plot = \"TotalExpenditure\""
   ]
  },
  {
   "cell_type": "code",
   "execution_count": 5,
   "id": "9744b499",
   "metadata": {},
   "outputs": [],
   "source": [
    "def remove_faulty(data: dict, variable, k, groups):\n",
    "    \"\"\"\n",
    "    This function will print the column name and the respective value in the exact same row as the\n",
    "    instructive PowerPoint listed, which can be used to cross validate data changes\n",
    "\n",
    "    :param data: dataframe to compare, variable: the output parameter that we are deleting data from, k: parameter of how much data to delete (1.5), group: list of data-types (ADA etc.)\n",
    "    :return: Dataset without outliers\n",
    "    \"\"\"\n",
    "\n",
    "    full_data = pd.concat([data[\"Output\"], data[\"Input\"]], axis=1)\n",
    "    print(\"Input data shape: \", full_data.shape)\n",
    "    for group in groups:\n",
    "        part_data = full_data[(full_data['IdentifierType'] == group)]\n",
    "        \n",
    "        scenarios = set(part_data['IdentifierScenario'])\n",
    "        for scenario in scenarios:\n",
    "            df = full_data[(full_data['IdentifierScenario'] == scenario) & (full_data['IdentifierType'] == group)]\n",
    "            list = df[variable]\n",
    "            use = list.sort_values(ascending = True)\n",
    "            data_amount = len(list)\n",
    "            data_amount_quart = int(data_amount / 4)\n",
    "\n",
    "            IQR = use[use.index[3* int(data_amount_quart)]] - use[use.index[int(data_amount_quart)]]\n",
    "\n",
    "            whisker = k * IQR  # To keep more values put 2*IQR or something else\n",
    "            acceptable_min = use[use.index[int(data_amount_quart)]] - whisker\n",
    "            acceptable_max = use[use.index[3* int(data_amount_quart)]] + whisker\n",
    "            full_data = full_data[~((full_data['IdentifierScenario'] == scenario) & (full_data[variable] >= acceptable_max) & (full_data['IdentifierType'] == group))]\n",
    "            full_data = full_data[~((full_data['IdentifierScenario'] == scenario) & (full_data[variable] <= acceptable_min) & (full_data['IdentifierType'] == group))]\n",
    "    \n",
    "    print(\"Shape after removing outliers: \", full_data.shape)\n",
    "    output_data = full_data.iloc[:, :full_data.columns.get_loc(\"Gui\")]\n",
    "    input_data = full_data.iloc[:, full_data.columns.get_loc(\"Gui\"):]\n",
    "    \n",
    "    output = dict()\n",
    "    output[\"Input\"] = input_data\n",
    "    output[\"Output\"] = output_data\n",
    "    return output"
   ]
  },
  {
   "cell_type": "code",
   "execution_count": 6,
   "id": "3a822bcf",
   "metadata": {},
   "outputs": [],
   "source": [
    "def import_data():\n",
    "    # Import the data\n",
    "    data = handle_data.csv_to_dataframe(\"logfiles.csv\")\n",
    "    # Remove outliers from training and val\n",
    "    data = remove_faulty(data, variable_to_plot, 1.5, [\"INI\", \"ADA\", \"HO\", \"VAL\"])\n",
    "\n",
    "    training, val, test = handle_data.split_data(data)\n",
    "\n",
    "    return training, val, test"
   ]
  },
  {
   "cell_type": "code",
   "execution_count": 7,
   "id": "e7b022f3",
   "metadata": {},
   "outputs": [
    {
     "name": "stdout",
     "output_type": "stream",
     "text": [
      "[DEBUG] Reading logfiles.csv into dataframe\n",
      "[DEBUG] Finished reading logfiles.csv into dataframe after 0.7210695743560791 seconds\n",
      "Input data shape:  (127908, 62)\n",
      "Shape after removing outliers:  (126825, 62)\n"
     ]
    }
   ],
   "source": [
    "training, val, test = import_data()"
   ]
  },
  {
   "cell_type": "code",
   "execution_count": 8,
   "id": "2515c7be",
   "metadata": {},
   "outputs": [],
   "source": [
    "def get_distance_from_mean(training, test):\n",
    "    \"\"\"\n",
    "    This function will print the column name and the respective value in the exact same row as the\n",
    "    instructive PowerPoint listed, which can be used to cross validate data changes\n",
    "\n",
    "    :param data: dataframe to compare, variable: the output parameter that we are deleting data from, k: parameter of how much data to delete (1.5), group: list of data-types (ADA etc.)\n",
    "    :return: Dataset without outliers\n",
    "    \"\"\"\n",
    "    \n",
    "    # Training first\n",
    "    full_data_training = pd.concat([training[\"Output\"], training[\"Input\"]], axis=1)\n",
    "    data_to_plot_training = pd.DataFrame(columns = [\"Value\", \"DistanceFromMean\"])\n",
    "    \n",
    "    for part in [\"INI\", \"ADA\"]:\n",
    "        part_data = full_data_training[(full_data_training['IdentifierType'] == part)]\n",
    "        scenarios = set(part_data['IdentifierScenario'])\n",
    "        for scenario in scenarios:\n",
    "            df = full_data_training[(full_data_training['IdentifierScenario'] == scenario) & (full_data_training['IdentifierType'] == part)]\n",
    "            \n",
    "            values = df[variable_to_plot]\n",
    "            mean = values.mean()\n",
    "            deviation_from_mean = values - mean\n",
    "            \n",
    "            combined_df = pd.DataFrame()\n",
    "            combined_df[\"Value\"] = values\n",
    "            combined_df[\"DistanceFromMean\"] = deviation_from_mean\n",
    "            combined_df[\"Value\"] = mean\n",
    "            data_to_plot_training = pd.concat([combined_df, data_to_plot_training], axis=0)\n",
    "            \n",
    "    # Test set\n",
    "    full_data_test = pd.concat([test[\"Output\"], test[\"Input\"]], axis=1)\n",
    "    data_to_plot_test = pd.DataFrame(columns = [\"Value\", \"DistanceFromMean\"])\n",
    "    \n",
    "    part = \"VAL\"\n",
    "    part_data = full_data_test[(full_data_test['IdentifierType'] == part)]\n",
    "    scenarios = set(part_data['IdentifierScenario'])\n",
    "    for scenario in scenarios:\n",
    "        df = full_data_test[(full_data_test['IdentifierScenario'] == scenario) & (full_data_test['IdentifierType'] == part)]\n",
    "\n",
    "        values = df[variable_to_plot]\n",
    "        mean = values.mean()\n",
    "        deviation_from_mean = values - mean\n",
    "\n",
    "        combined_df = pd.DataFrame()\n",
    "        combined_df[\"Value\"] = values\n",
    "        combined_df[\"DistanceFromMean\"] = deviation_from_mean\n",
    "        combined_df[\"Value\"] = mean\n",
    "        data_to_plot_test = pd.concat([combined_df, data_to_plot_test], axis=0)        \n",
    "    \n",
    "    return data_to_plot_training, data_to_plot_test"
   ]
  },
  {
   "cell_type": "code",
   "execution_count": 9,
   "id": "90420677",
   "metadata": {},
   "outputs": [],
   "source": [
    "def plot_data(x_train, x_val, y_train, y_val, xlabel, ylabel):\n",
    "    fig, axs = plt.subplots(1,3, gridspec_kw={'width_ratios': [3, 1, 1]})\n",
    "    fig.set_figwidth(15)\n",
    "    \n",
    "    colors = ['b', 'yellow']\n",
    "    # Put all the brothers together\n",
    "    plt.subplots_adjust(wspace=0.0)\n",
    "    for c in range(2):\n",
    "        \n",
    "        if c == 0:\n",
    "            axs[0].scatter(x_train, y_train, alpha=0.5, c=(colors[c]), label=\"Training Data\")\n",
    "            axs[0].set_xlabel(xlabel)\n",
    "            axs[0].set_ylabel(ylabel)\n",
    "            axs[0].grid(True)\n",
    "            plt.grid()\n",
    "\n",
    "            axs[1].hist(y_train, bins=50, orientation='horizontal', color = colors[c], ec=colors[c])\n",
    "            axs[1].set_xlabel(\"Frequency\")\n",
    "            axs[1].grid(True)\n",
    "            axs[1].set_yticklabels([])\n",
    "\n",
    "            qqplot = sm.qqplot(y_train, ax = axs[2], markerfacecolor=colors[c], markeredgecolor=colors[c])\n",
    "            axs[2].set_ylabel(\"\")\n",
    "            axs[2].yaxis.tick_right()\n",
    "            axs[2].grid(True)\n",
    "        else:\n",
    "            axs[0].scatter(x_test, y_test, alpha=0.5, c=(colors[c]), label=\"Test data\")\n",
    "            axs[0].set_xlabel(xlabel)\n",
    "            axs[0].set_ylabel(ylabel)\n",
    "            axs[0].grid(True)\n",
    "            plt.grid()\n",
    "            axs[0].legend(loc='upper right')\n",
    "\n",
    "            axs[1].hist(y_test, bins=50, orientation='horizontal', color = colors[c], ec=colors[c])\n",
    "            axs[1].set_xlabel(\"Frequency\")\n",
    "            axs[1].grid(True)\n",
    "            axs[1].set_yticklabels([])\n",
    "\n",
    "            qqplot = sm.qqplot(y_test, ax = axs[2], markerfacecolor=colors[c], markeredgecolor=colors[c])\n",
    "            axs[2].set_ylabel(\"\")\n",
    "            axs[2].yaxis.tick_right()\n",
    "            axs[2].grid(True)\n",
    "            \n",
    "        c += 1\n",
    "    "
   ]
  },
  {
   "cell_type": "code",
   "execution_count": 17,
   "id": "6a96bd86",
   "metadata": {},
   "outputs": [
    {
     "name": "stdout",
     "output_type": "stream",
     "text": [
      "Train:  90.72157219653154\n",
      "Test:  94.7226296412449\n",
      "113.3460330963714\n",
      "118.22324630732368\n"
     ]
    }
   ],
   "source": [
    "training_plot, test_plot = get_distance_from_mean(training, test)\n",
    "x_train = training_plot[\"Value\"]\n",
    "y_train = training_plot[\"DistanceFromMean\"]\n",
    "x_test = test_plot[\"Value\"]\n",
    "y_test = test_plot[\"DistanceFromMean\"]\n",
    "\n",
    "plotting = [training_plot, test_plot]\n",
    "\n",
    "print(\"Train: \", abs(y_train).mean())\n",
    "print(\"Test: \", abs(y_test).mean())\n",
    "\n",
    "def min_rmse(value, distance_mean):\n",
    "    return np.sqrt(sum(distance_mean**2 / len(distance_mean)))\n",
    "\n",
    "print(min_rmse(x_train, y_train))\n",
    "print(min_rmse(x_test, y_test))"
   ]
  },
  {
   "cell_type": "code",
   "execution_count": null,
   "id": "9d2efbbf",
   "metadata": {},
   "outputs": [],
   "source": [
    "xlabel = \"Total Expenditure [€]\"\n",
    "ylabel = \"Distance from mean [€]\"\n",
    "\n",
    "plot_data(x_train, x_test, y_train, y_test, xlabel, ylabel)"
   ]
  },
  {
   "cell_type": "code",
   "execution_count": null,
   "id": "d8107352",
   "metadata": {},
   "outputs": [],
   "source": []
  }
 ],
 "metadata": {
  "kernelspec": {
   "display_name": "Python 3.11.2",
   "language": "python",
   "name": "myenv"
  },
  "language_info": {
   "codemirror_mode": {
    "name": "ipython",
    "version": 3
   },
   "file_extension": ".py",
   "mimetype": "text/x-python",
   "name": "python",
   "nbconvert_exporter": "python",
   "pygments_lexer": "ipython3",
   "version": "3.11.2"
  }
 },
 "nbformat": 4,
 "nbformat_minor": 5
}
